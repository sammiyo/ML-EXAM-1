{
 "cells": [
  {
   "cell_type": "code",
   "execution_count": 12,
   "metadata": {},
   "outputs": [
    {
     "name": "stdout",
     "output_type": "stream",
     "text": [
      "For gamma= 0.001 :\n",
      "minimum value of L2 distance :  2.0150886471295886\n",
      "25% value of L2 distance :  2.016051527550159\n",
      "median value of L2 distance : :  2.0161872233459173\n",
      "75% value of L2 distance : :  2.016339427810008\n",
      "maximum value of L2 distance :  2.017251229537448\n",
      "\n",
      "\n",
      "For gamma= 0.01 :\n",
      "minimum value of L2 distance :  1.8832530730194637\n",
      "25% value of L2 distance :  2.003890605248728\n",
      "median value of L2 distance : :  2.0161511768788953\n",
      "75% value of L2 distance : :  2.0351318757279895\n",
      "maximum value of L2 distance :  2.188768330242105\n",
      "\n",
      "\n",
      "For gamma= 0.1 :\n",
      "minimum value of L2 distance :  1.5376728933670663\n",
      "25% value of L2 distance :  5.353710197779233\n",
      "median value of L2 distance : :  16.55263103338235\n",
      "75% value of L2 distance : :  39.5334526117106\n",
      "maximum value of L2 distance :  371.2783103893785\n",
      "\n",
      "\n",
      "For gamma= 1 :\n",
      "minimum value of L2 distance :  0.36639327395386795\n",
      "25% value of L2 distance :  769.9261986931207\n",
      "median value of L2 distance : :  4396.954880601634\n",
      "75% value of L2 distance : :  9996.018678468987\n",
      "maximum value of L2 distance :  49872.66674474269\n",
      "\n",
      "\n",
      "For gamma= 10 :\n",
      "minimum value of L2 distance :  0.0399634853664751\n",
      "25% value of L2 distance :  2658.9706865103435\n",
      "median value of L2 distance : :  11367.192353598297\n",
      "75% value of L2 distance : :  49091.40669107711\n",
      "maximum value of L2 distance :  594371.8338006355\n",
      "\n",
      "\n",
      "For gamma= 100 :\n",
      "minimum value of L2 distance :  1.5041058700143664\n",
      "25% value of L2 distance :  942.4915117269246\n",
      "median value of L2 distance : :  6031.812617221415\n",
      "75% value of L2 distance : :  24127.391622282154\n",
      "maximum value of L2 distance :  443196.65916324\n",
      "\n",
      "\n"
     ]
    },
    {
     "data": {
      "image/png": "[encoded data removed]",
      "text/plain": [
       "<Figure size 720x720 with 1 Axes>"
      ]
     },
     "metadata": {
      "needs_background": "light"
     },
     "output_type": "display_data"
    }
   ],
   "source": [
    "import numpy as np\n",
    "import matplotlib.pyplot as plt\n",
    "%matplotlib inline\n",
    "l=[]\n",
    "for i in range(-3,3):\n",
    "    q=[]\n",
    "    for j in range(100):\n",
    "        sigma=100\n",
    "        v=np.random.normal(0,sigma)\n",
    "        x=np.random.uniform(-1,1,(10,4))\n",
    "        gamma=10**i\n",
    "        x[:,3]=1\n",
    "        x1=x[:,2]\n",
    "        xsq=x[:,1]**2\n",
    "        xcube=x[:,0]**3\n",
    "        X=np.array([xcube,xsq,x1,10*[1]]).reshape(10,4)\n",
    "        # a,b,c,d values\n",
    "        w_true=np.array([1,-1,-0.09,0.09]).reshape(4,1)\n",
    "        y_true=X@w_true+v\n",
    "        w_map=np.linalg.inv((np.identity(4)/gamma**2+X.T@X))@X.T@y_true\n",
    "    \n",
    "        l2_distance=np.sum((w_map-w_true)**2)\n",
    "        l.append(l2_distance)\n",
    "        q.append(l2_distance)\n",
    "    \n",
    "    print(\"For gamma=\",10**i,\":\")\n",
    "    print(\"minimum value of L2 distance : \", np.quantile(q, 0))\n",
    "    print(\"25% value of L2 distance : \", np.quantile(q, .25)) \n",
    "    print(\"median value of L2 distance : : \", np.quantile(q, .50)) \n",
    "    print(\"75% value of L2 distance : : \", np.quantile(q, .75))\n",
    "    print(\"maximum value of L2 distance : \", np.quantile(q, 1))\n",
    "    print(\"\\n\")\n",
    "\n",
    "d1=l[:100]\n",
    "d2=l[100:200]\n",
    "d3=l[200:300]\n",
    "d4=l[300:400]\n",
    "d5=l[400:500]\n",
    "d6=l[500:600]\n",
    "d7=l[600:700]\n",
    "data=[d1,d2,d3,d4,d5,d6,d7]\n",
    "plt.figure(figsize=(10,10))\n",
    "plt.boxplot(data,positions=[1,2,3,4,5,6,7],showfliers=False)\n",
    "plt.show() "
   ]
  },
  {
   "cell_type": "code",
   "execution_count": null,
   "metadata": {},
   "outputs": [],
   "source": []
  }
 ],
 "metadata": {
  "kernelspec": {
   "display_name": "Python 3",
   "language": "python",
   "name": "python3"
  },
  "language_info": {
   "codemirror_mode": {
    "name": "ipython",
    "version": 3
   },
   "file_extension": ".py",
   "mimetype": "text/x-python",
   "name": "python",
   "nbconvert_exporter": "python",
   "pygments_lexer": "ipython3",
   "version": "3.7.1"
  }
 },
 "nbformat": 4,
 "nbformat_minor": 2
}
